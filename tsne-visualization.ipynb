{
 "cells": [
  {
   "cell_type": "code",
   "execution_count": 81,
   "id": "4aa3f101",
   "metadata": {},
   "outputs": [],
   "source": [
    "import numpy as np\n",
    "import matplotlib.pyplot as plt\n",
    "import torch\n",
    "\n",
    "from src import model_trajectories as mt\n",
    "from src import utils"
   ]
  },
  {
   "cell_type": "code",
   "execution_count": 63,
   "id": "595a1dee",
   "metadata": {},
   "outputs": [
    {
     "name": "stdout",
     "output_type": "stream",
     "text": [
      "torch.Size([2, 32, 10, 10]) torch.Size([2, 32, 10, 10])\n",
      "torch.Size([2, 100]) torch.Size([2, 100])\n",
      "2 2\n",
      "torch.Size([2, 32, 10, 10]) torch.Size([2, 32, 10, 10])\n",
      "torch.Size([2, 100]) torch.Size([2, 100])\n",
      "2 2\n",
      "torch.Size([2, 32, 10, 10]) torch.Size([2, 32, 10, 10])\n",
      "torch.Size([2, 100]) torch.Size([2, 100])\n",
      "2 2\n",
      "torch.Size([2, 32, 10, 10]) torch.Size([2, 32, 10, 10])\n",
      "torch.Size([2, 100]) torch.Size([2, 100])\n",
      "2 2\n",
      "torch.Size([2, 32, 10, 10]) torch.Size([2, 32, 10, 10])\n",
      "torch.Size([2, 100]) torch.Size([2, 100])\n",
      "2 2\n",
      "torch.Size([2, 32, 10, 10]) torch.Size([2, 32, 10, 10])\n",
      "torch.Size([2, 100]) torch.Size([2, 100])\n",
      "2 2\n"
     ]
    }
   ],
   "source": [
    "all_preds = []\n",
    "stepsize = 2\n",
    "for epoch in range(0, 3):\n",
    "    epoch_preds = []\n",
    "    for i in range(0, 4, stepsize):\n",
    "        tensor1 = torch.rand((stepsize, 32, 10, 10))\n",
    "        tensor2 = torch.rand((stepsize, 32, 10, 10)) * 10\n",
    "        print(tensor1.shape, tensor2.shape)\n",
    "    \n",
    "        tensor1 = tensor1.argmax(1).flatten(start_dim=1).cpu()\n",
    "        tensor2 = tensor2.argmax(1).flatten(start_dim=1).cpu()\n",
    "        print(tensor1.shape, tensor2.shape)\n",
    "        tensor1 = tensor1.tolist()\n",
    "        tensor2 = tensor2.tolist()\n",
    "        print(len(tensor1), len(tensor2))\n",
    "        \n",
    "        epoch_preds.extend(tensor1)\n",
    "    all_preds.append(epoch_preds)\n",
    "        \n",
    "\n"
   ]
  },
  {
   "cell_type": "code",
   "execution_count": 77,
   "id": "de3e4f03",
   "metadata": {},
   "outputs": [
    {
     "data": {
      "text/plain": [
       "(3, 4, 100)"
      ]
     },
     "execution_count": 77,
     "metadata": {},
     "output_type": "execute_result"
    }
   ],
   "source": [
    "all_preds = np.array(all_preds)\n",
    "all_preds.shape"
   ]
  },
  {
   "cell_type": "code",
   "execution_count": 78,
   "id": "621fe10c",
   "metadata": {},
   "outputs": [],
   "source": [
    "with open('valid_preds/test.txt', 'w') as outfile:\n",
    "    outfile.write('# Array shape: {0}\\n'.format(all_preds.shape))\n",
    "    \n",
    "    # Iterating through a ndimensional array produces slices along\n",
    "    # the last axis. This is equivalent to data[i,:,:] in this case\n",
    "    for data_slice in all_preds:\n",
    "\n",
    "        # The formatting string indicates that I'm writing out\n",
    "        # the values in left-justified columns 7 characters in width\n",
    "        # with 2 decimal places.  \n",
    "        np.savetxt(outfile, data_slice, fmt='%-7.2f')\n",
    "\n",
    "        # Writing out a break to indicate different slices...\n",
    "        outfile.write('# New slice\\n')"
   ]
  },
  {
   "cell_type": "code",
   "execution_count": 84,
   "id": "55fd489f",
   "metadata": {},
   "outputs": [],
   "source": [
    "all_preds = utils.load_3d_array('valid_preds/unet_alt', (3,100,16384))"
   ]
  },
  {
   "cell_type": "code",
   "execution_count": 86,
   "id": "eaefa374",
   "metadata": {},
   "outputs": [
    {
     "data": {
      "text/plain": [
       "(3, 100, 16384)"
      ]
     },
     "execution_count": 86,
     "metadata": {},
     "output_type": "execute_result"
    }
   ],
   "source": [
    "all_preds.shape"
   ]
  },
  {
   "cell_type": "code",
   "execution_count": 80,
   "id": "1d16e624",
   "metadata": {},
   "outputs": [
    {
     "data": {
      "text/plain": [
       "(3, 4, 100)"
      ]
     },
     "execution_count": 80,
     "metadata": {},
     "output_type": "execute_result"
    }
   ],
   "source": [
    "all_preds = np.loadtxt('valid_preds/test.txt').reshape((3,4,100))\n",
    "all_preds.shape"
   ]
  },
  {
   "cell_type": "code",
   "execution_count": 61,
   "id": "67d34862",
   "metadata": {},
   "outputs": [
    {
     "name": "stdout",
     "output_type": "stream",
     "text": [
      "torch.Size([2, 32, 10, 10]) torch.Size([2, 32, 10, 10])\n",
      "torch.Size([2, 100]) torch.Size([2, 100])\n"
     ]
    }
   ],
   "source": [
    "tensor1 = torch.rand((2, 32, 10, 10))\n",
    "tensor2 = torch.rand((2, 32, 10, 10)) * 10\n",
    "print(tensor1.shape, tensor2.shape)\n",
    "tensor1 = tensor1.argmax(1).flatten(start_dim=1).cpu()   #.reshape(2,-1,1)\n",
    "tensor2 = tensor2.argmax(1).flatten(start_dim=1).cpu()   #.reshape(2,-1,1)\n",
    "print(tensor1.shape, tensor2.shape)"
   ]
  },
  {
   "cell_type": "code",
   "execution_count": 62,
   "id": "a7152bad",
   "metadata": {},
   "outputs": [
    {
     "data": {
      "text/plain": [
       "tensor([[ 9,  5,  1, 22, 10, 25, 22, 11,  9, 25, 14, 28, 11,  0,  9, 27, 24,  1,\n",
       "         19, 27, 30,  0, 14, 20, 22,  3, 20, 14, 19, 24, 13,  5, 25,  9, 28, 15,\n",
       "         10, 19, 15, 21, 27, 20, 12,  9, 11,  4, 15, 17, 23,  0,  9, 12,  2, 12,\n",
       "          8, 19, 14, 20, 24,  7, 25, 17, 20,  1, 29,  4,  7, 20,  9, 26,  3, 19,\n",
       "         25, 13, 22, 14, 24, 31, 31,  1,  9, 15, 16, 28,  8, 20, 10, 10, 21, 16,\n",
       "         21,  4, 30,  5, 13,  2,  6, 29,  5, 21],\n",
       "        [ 9, 19,  2, 11,  5,  4,  5, 27, 18, 29,  7, 17,  9, 11, 19, 28, 22, 19,\n",
       "          4,  8, 29,  9, 18, 13,  2,  8, 11, 16, 19, 14,  1, 11, 15, 26, 30, 26,\n",
       "          8, 11,  1, 26, 25,  0,  4, 26,  9, 14, 22, 16,  2,  8, 23, 17,  4, 10,\n",
       "          0, 19,  0, 26, 11, 10, 21,  8, 25, 17, 10, 20, 26,  3,  5, 20,  3, 10,\n",
       "         26,  0, 10,  7,  7, 15, 17, 29,  3, 25, 30, 28, 22,  8, 15, 12,  7, 11,\n",
       "          7,  9, 26, 10, 26,  6,  2,  6, 23, 13]])"
      ]
     },
     "execution_count": 62,
     "metadata": {},
     "output_type": "execute_result"
    }
   ],
   "source": [
    "tensor1"
   ]
  },
  {
   "cell_type": "code",
   "execution_count": null,
   "id": "f38a5e3d",
   "metadata": {},
   "outputs": [],
   "source": [
    "tuple"
   ]
  },
  {
   "cell_type": "code",
   "execution_count": null,
   "id": "2aff315c",
   "metadata": {},
   "outputs": [],
   "source": [
    "(epoch, image, pixel) -> (3, 701, 16384)"
   ]
  },
  {
   "cell_type": "code",
   "execution_count": 32,
   "id": "6f4a4dde",
   "metadata": {},
   "outputs": [
    {
     "data": {
      "text/plain": [
       "4964352"
      ]
     },
     "execution_count": 32,
     "metadata": {},
     "output_type": "execute_result"
    }
   ],
   "source": [
    "3*101*16384"
   ]
  },
  {
   "cell_type": "code",
   "execution_count": 24,
   "id": "f7bd3e0c",
   "metadata": {},
   "outputs": [
    {
     "ename": "TypeError",
     "evalue": "flatten() got an unexpected keyword argument 'dim'",
     "output_type": "error",
     "traceback": [
      "\u001b[0;31m---------------------------------------------------------------------------\u001b[0m",
      "\u001b[0;31mTypeError\u001b[0m                                 Traceback (most recent call last)",
      "Input \u001b[0;32mIn [24]\u001b[0m, in \u001b[0;36m<module>\u001b[0;34m\u001b[0m\n\u001b[0;32m----> 1\u001b[0m tensor1 \u001b[38;5;241m=\u001b[39m \u001b[43mtensor1\u001b[49m\u001b[38;5;241;43m.\u001b[39;49m\u001b[43margmax\u001b[49m\u001b[43m(\u001b[49m\u001b[38;5;241;43m1\u001b[39;49m\u001b[43m)\u001b[49m\u001b[38;5;241;43m.\u001b[39;49m\u001b[43mflatten\u001b[49m\u001b[43m(\u001b[49m\u001b[43mdim\u001b[49m\u001b[38;5;241;43m=\u001b[39;49m\u001b[38;5;241;43m1\u001b[39;49m\u001b[43m)\u001b[49m\u001b[38;5;241m.\u001b[39mcpu()   \u001b[38;5;66;03m#.reshape(2,-1,1)\u001b[39;00m\n\u001b[1;32m      2\u001b[0m tensor2 \u001b[38;5;241m=\u001b[39m tensor2\u001b[38;5;241m.\u001b[39margmax(\u001b[38;5;241m1\u001b[39m)\u001b[38;5;241m.\u001b[39mflatten(dim\u001b[38;5;241m=\u001b[39m\u001b[38;5;241m1\u001b[39m)\u001b[38;5;241m.\u001b[39mcpu()   \u001b[38;5;66;03m#.reshape(2,-1,1)\u001b[39;00m\n\u001b[1;32m      3\u001b[0m tensor1\u001b[38;5;241m.\u001b[39mshape, tensor2\u001b[38;5;241m.\u001b[39mshape\n",
      "\u001b[0;31mTypeError\u001b[0m: flatten() got an unexpected keyword argument 'dim'"
     ]
    }
   ],
   "source": [
    "tensor1 = tensor1.argmax(1).flatten(order=).cpu()   #.reshape(2,-1,1)\n",
    "tensor2 = tensor2.argmax(1).flatten(dim=1).cpu()   #.reshape(2,-1,1)\n",
    "tensor1.shape, tensor2.shape"
   ]
  },
  {
   "cell_type": "code",
   "execution_count": 13,
   "id": "2fd237ce",
   "metadata": {},
   "outputs": [
    {
     "data": {
      "text/plain": [
       "((200,), (200,))"
      ]
     },
     "execution_count": 13,
     "metadata": {},
     "output_type": "execute_result"
    }
   ],
   "source": [
    "tensor1 = tensor1.numpy()\n",
    "tensor2 = tensor2.numpy()\n",
    "tensor1.shape, tensor2.shape"
   ]
  },
  {
   "cell_type": "code",
   "execution_count": 5,
   "id": "68ebf831",
   "metadata": {},
   "outputs": [
    {
     "name": "stderr",
     "output_type": "stream",
     "text": [
      "/mnt/c/Users/johan/itu/aml/AML4DS2022/venv/lib/python3.8/site-packages/sklearn/manifold/_t_sne.py:790: FutureWarning: The default learning rate in TSNE will change from 200.0 to 'auto' in 1.2.\n",
      "  warnings.warn(\n",
      "/mnt/c/Users/johan/itu/aml/AML4DS2022/venv/lib/python3.8/site-packages/sklearn/manifold/_t_sne.py:790: FutureWarning: The default learning rate in TSNE will change from 200.0 to 'auto' in 1.2.\n",
      "  warnings.warn(\n",
      "/mnt/c/Users/johan/itu/aml/AML4DS2022/venv/lib/python3.8/site-packages/sklearn/manifold/_t_sne.py:790: FutureWarning: The default learning rate in TSNE will change from 200.0 to 'auto' in 1.2.\n",
      "  warnings.warn(\n",
      "/mnt/c/Users/johan/itu/aml/AML4DS2022/venv/lib/python3.8/site-packages/sklearn/manifold/_t_sne.py:790: FutureWarning: The default learning rate in TSNE will change from 200.0 to 'auto' in 1.2.\n",
      "  warnings.warn(\n"
     ]
    },
    {
     "data": {
      "image/png": "[encoded data removed]",
      "text/plain": [
       "<Figure size 432x288 with 1 Axes>"
      ]
     },
     "metadata": {
      "needs_background": "light"
     },
     "output_type": "display_data"
    }
   ],
   "source": [
    "mt.visualize_model_trajectories(tensor1, tensor2)"
   ]
  },
  {
   "cell_type": "code",
   "execution_count": null,
   "id": "b13dd73f",
   "metadata": {},
   "outputs": [],
   "source": []
  },
  {
   "cell_type": "code",
   "execution_count": null,
   "id": "4a9d609d",
   "metadata": {},
   "outputs": [],
   "source": [
    "from sklearn.manifold import TSNE"
   ]
  },
  {
   "cell_type": "code",
   "execution_count": 187,
   "id": "6f03b650",
   "metadata": {},
   "outputs": [
    {
     "data": {
      "text/plain": [
       "(3, 100, 16384)"
      ]
     },
     "execution_count": 187,
     "metadata": {},
     "output_type": "execute_result"
    }
   ],
   "source": [
    "all_preds = np.loadtxt('valid_preds/unet_alt_lr1').reshape((3,100,16384))\n",
    "all_preds.shape"
   ]
  },
  {
   "cell_type": "code",
   "execution_count": 209,
   "id": "cf7b48fc",
   "metadata": {},
   "outputs": [],
   "source": [
    "X = all_preds[0]\n",
    "Y = all_preds[1]\n",
    "Z = all_preds[2]"
   ]
  },
  {
   "cell_type": "code",
   "execution_count": 214,
   "id": "97dfaeae",
   "metadata": {},
   "outputs": [
    {
     "data": {
      "text/plain": [
       "((100, 16384), (100, 16384), (100, 16384))"
      ]
     },
     "execution_count": 214,
     "metadata": {},
     "output_type": "execute_result"
    }
   ],
   "source": [
    "X.shape, Y.shape, Z.shape"
   ]
  },
  {
   "cell_type": "code",
   "execution_count": 191,
   "id": "e209c898",
   "metadata": {},
   "outputs": [
    {
     "name": "stderr",
     "output_type": "stream",
     "text": [
      "/mnt/c/Users/johan/itu/aml/AML4DS2022/venv/lib/python3.8/site-packages/sklearn/manifold/_t_sne.py:780: FutureWarning: The default initialization in TSNE will change from 'random' to 'pca' in 1.2.\n",
      "  warnings.warn(\n",
      "/mnt/c/Users/johan/itu/aml/AML4DS2022/venv/lib/python3.8/site-packages/sklearn/manifold/_t_sne.py:790: FutureWarning: The default learning rate in TSNE will change from 200.0 to 'auto' in 1.2.\n",
      "  warnings.warn(\n"
     ]
    },
    {
     "data": {
      "text/plain": [
       "(16384, 2)"
      ]
     },
     "execution_count": 191,
     "metadata": {},
     "output_type": "execute_result"
    }
   ],
   "source": [
    "tsne.fit_transform(X.transpose()).shape"
   ]
  },
  {
   "cell_type": "code",
   "execution_count": 218,
   "id": "8101ad37",
   "metadata": {},
   "outputs": [
    {
     "name": "stderr",
     "output_type": "stream",
     "text": [
      "/mnt/c/Users/johan/itu/aml/AML4DS2022/venv/lib/python3.8/site-packages/sklearn/manifold/_t_sne.py:780: FutureWarning: The default initialization in TSNE will change from 'random' to 'pca' in 1.2.\n",
      "  warnings.warn(\n",
      "/mnt/c/Users/johan/itu/aml/AML4DS2022/venv/lib/python3.8/site-packages/sklearn/manifold/_t_sne.py:790: FutureWarning: The default learning rate in TSNE will change from 200.0 to 'auto' in 1.2.\n",
      "  warnings.warn(\n",
      "/mnt/c/Users/johan/itu/aml/AML4DS2022/venv/lib/python3.8/site-packages/sklearn/manifold/_t_sne.py:780: FutureWarning: The default initialization in TSNE will change from 'random' to 'pca' in 1.2.\n",
      "  warnings.warn(\n",
      "/mnt/c/Users/johan/itu/aml/AML4DS2022/venv/lib/python3.8/site-packages/sklearn/manifold/_t_sne.py:790: FutureWarning: The default learning rate in TSNE will change from 200.0 to 'auto' in 1.2.\n",
      "  warnings.warn(\n",
      "/mnt/c/Users/johan/itu/aml/AML4DS2022/venv/lib/python3.8/site-packages/sklearn/manifold/_t_sne.py:780: FutureWarning: The default initialization in TSNE will change from 'random' to 'pca' in 1.2.\n",
      "  warnings.warn(\n",
      "/mnt/c/Users/johan/itu/aml/AML4DS2022/venv/lib/python3.8/site-packages/sklearn/manifold/_t_sne.py:790: FutureWarning: The default learning rate in TSNE will change from 200.0 to 'auto' in 1.2.\n",
      "  warnings.warn(\n"
     ]
    }
   ],
   "source": [
    "tsne = TSNE(n_components=2)\n",
    "X_transformed = tsne.fit_transform(X)\n",
    "Y_transformed = tsne.fit_transform(Y)\n",
    "Z_transformed = tsne.fit_transform(Z)"
   ]
  },
  {
   "cell_type": "code",
   "execution_count": 216,
   "id": "5a2c0499",
   "metadata": {},
   "outputs": [
    {
     "data": {
      "text/plain": [
       "<matplotlib.collections.PathCollection at 0x7f82b13e98b0>"
      ]
     },
     "execution_count": 216,
     "metadata": {},
     "output_type": "execute_result"
    },
    {
     "data": {
      "image/png": "[encoded data removed]",
      "text/plain": [
       "<Figure size 432x288 with 1 Axes>"
      ]
     },
     "metadata": {
      "needs_background": "light"
     },
     "output_type": "display_data"
    }
   ],
   "source": [
    "plt.scatter(X_transformed[:, 0], X_transformed[:,1], c=\"b\")\n",
    "plt.scatter(Y_transformed[:, 0], Y_transformed[:,1], c=\"orange\")\n",
    "plt.scatter(Z_transformed[:, 0], Z_transformed[:,1], c=\"g\")"
   ]
  },
  {
   "cell_type": "code",
   "execution_count": 125,
   "id": "06eeb40f",
   "metadata": {},
   "outputs": [],
   "source": [
    "import matplotlib\n",
    "import numpy.typing as npt"
   ]
  },
  {
   "cell_type": "code",
   "execution_count": 267,
   "id": "d4e407f5",
   "metadata": {},
   "outputs": [],
   "source": [
    "def visualize_model_trajectories(m1_preds:npt.NDArray, m2_preds:npt.NDArray):\n",
    "    tsne = TSNE(n_components=2, init=\"random\")\n",
    "    cmap = ['b', 'g', 'r', 'c', 'm', 'y', 'b', 'w']\n",
    "\n",
    "    for epoch, (preds1, preds2) in enumerate(zip(m1_preds, m2_preds)):\n",
    "        print(epoch)\n",
    "        \n",
    "        m1_epoch_trajectory = tsne.fit_transform(preds1.reshape(-1,1))\n",
    "        m2_epoch_trajectory = tsne.fit_transform(preds2.reshape(-1,1))\n",
    "            \n",
    "        plt.scatter(m1_epoch_trajectory[:, 0], m1_epoch_trajectory[:, 1], c=cmap[epoch], marker=\"^\")\n",
    "        plt.scatter(m2_epoch_trajectory[:, 0], m2_epoch_trajectory[:, 1], c=cmap[epoch], marker=\"x\")\n",
    "\n",
    "    plt.show()"
   ]
  },
  {
   "cell_type": "code",
   "execution_count": 220,
   "id": "ded2f741",
   "metadata": {},
   "outputs": [],
   "source": [
    "all_preds = utils.load_3d_array('valid_preds/unet_alt_lr1', (3,100,16384))\n",
    "all_preds2 = utils.load_3d_array('valid_preds/unet_alt', (3,100,16384))"
   ]
  },
  {
   "cell_type": "code",
   "execution_count": 268,
   "id": "6b26b889",
   "metadata": {},
   "outputs": [
    {
     "name": "stdout",
     "output_type": "stream",
     "text": [
      "0\n"
     ]
    },
    {
     "name": "stderr",
     "output_type": "stream",
     "text": [
      "/mnt/c/Users/johan/itu/aml/AML4DS2022/venv/lib/python3.8/site-packages/sklearn/manifold/_t_sne.py:790: FutureWarning: The default learning rate in TSNE will change from 200.0 to 'auto' in 1.2.\n",
      "  warnings.warn(\n",
      "/mnt/c/Users/johan/itu/aml/AML4DS2022/venv/lib/python3.8/site-packages/sklearn/manifold/_t_sne.py:790: FutureWarning: The default learning rate in TSNE will change from 200.0 to 'auto' in 1.2.\n",
      "  warnings.warn(\n"
     ]
    },
    {
     "name": "stdout",
     "output_type": "stream",
     "text": [
      "1\n"
     ]
    },
    {
     "name": "stderr",
     "output_type": "stream",
     "text": [
      "/mnt/c/Users/johan/itu/aml/AML4DS2022/venv/lib/python3.8/site-packages/sklearn/manifold/_t_sne.py:790: FutureWarning: The default learning rate in TSNE will change from 200.0 to 'auto' in 1.2.\n",
      "  warnings.warn(\n",
      "/mnt/c/Users/johan/itu/aml/AML4DS2022/venv/lib/python3.8/site-packages/sklearn/manifold/_t_sne.py:790: FutureWarning: The default learning rate in TSNE will change from 200.0 to 'auto' in 1.2.\n",
      "  warnings.warn(\n"
     ]
    },
    {
     "name": "stdout",
     "output_type": "stream",
     "text": [
      "2\n"
     ]
    },
    {
     "name": "stderr",
     "output_type": "stream",
     "text": [
      "/mnt/c/Users/johan/itu/aml/AML4DS2022/venv/lib/python3.8/site-packages/sklearn/manifold/_t_sne.py:790: FutureWarning: The default learning rate in TSNE will change from 200.0 to 'auto' in 1.2.\n",
      "  warnings.warn(\n",
      "/mnt/c/Users/johan/itu/aml/AML4DS2022/venv/lib/python3.8/site-packages/sklearn/manifold/_t_sne.py:790: FutureWarning: The default learning rate in TSNE will change from 200.0 to 'auto' in 1.2.\n",
      "  warnings.warn(\n"
     ]
    },
    {
     "data": {
      "image/png": "[encoded data removed]",
      "text/plain": [
       "<Figure size 432x288 with 1 Axes>"
      ]
     },
     "metadata": {
      "needs_background": "light"
     },
     "output_type": "display_data"
    }
   ],
   "source": [
    "visualize_model_trajectories(all_preds[:, 0], all_preds[:, 0])"
   ]
  },
  {
   "cell_type": "code",
   "execution_count": 248,
   "id": "f46e111f",
   "metadata": {},
   "outputs": [
    {
     "data": {
      "text/plain": [
       "((3, 100, 16384), (3, 100, 16384))"
      ]
     },
     "execution_count": 248,
     "metadata": {},
     "output_type": "execute_result"
    }
   ],
   "source": [
    "all_preds.shape, all_preds2.shape"
   ]
  },
  {
   "cell_type": "code",
   "execution_count": 253,
   "id": "8f1aef71",
   "metadata": {},
   "outputs": [
    {
     "data": {
      "text/plain": [
       "(100, 16384)"
      ]
     },
     "execution_count": 253,
     "metadata": {},
     "output_type": "execute_result"
    }
   ],
   "source": [
    "all_preds[:][0].shape"
   ]
  },
  {
   "cell_type": "code",
   "execution_count": 246,
   "id": "b721d9e7",
   "metadata": {},
   "outputs": [],
   "source": [
    "# en graf sammenligner to modeller på pixels prediction niveau over epochs\n",
    "#predictions på et billede -> reduction med t-sne? for hver epoch?\n",
    "# så ledes 100 billeder, hvert billede # of epochs representationer af billedet, 2 representationer af dette, en for hver model\n",
    "#\n",
    "# så for 3 epochs med 1 og to modeller får vi 3 * 2 punkter = 6 punkter"
   ]
  },
  {
   "cell_type": "code",
   "execution_count": 257,
   "id": "5cf515cf",
   "metadata": {},
   "outputs": [
    {
     "data": {
      "text/plain": [
       "(3, 16384)"
      ]
     },
     "execution_count": 257,
     "metadata": {},
     "output_type": "execute_result"
    }
   ],
   "source": [
    "all_preds[:, 0].shape"
   ]
  },
  {
   "cell_type": "code",
   "execution_count": 259,
   "id": "511c337c",
   "metadata": {},
   "outputs": [
    {
     "name": "stdout",
     "output_type": "stream",
     "text": [
      "(16384, 1)\n",
      "(16384, 1)\n",
      "(16384, 1)\n"
     ]
    }
   ],
   "source": [
    "for img in all_preds[:, 0]:\n",
    "    print(img.reshape(-1,1).shape)"
   ]
  },
  {
   "cell_type": "code",
   "execution_count": 294,
   "id": "9e65ac0e",
   "metadata": {},
   "outputs": [
    {
     "data": {
      "text/plain": [
       "array([[0., 0., 0., ..., 0., 0., 0.],\n",
       "       [0., 0., 0., ..., 0., 0., 0.],\n",
       "       [0., 0., 0., ..., 0., 0., 0.]])"
      ]
     },
     "execution_count": 294,
     "metadata": {},
     "output_type": "execute_result"
    }
   ],
   "source": [
    "all_preds[:, 0]"
   ]
  },
  {
   "cell_type": "code",
   "execution_count": 305,
   "id": "8d355f67",
   "metadata": {},
   "outputs": [
    {
     "data": {
      "text/plain": [
       "(3,)"
      ]
     },
     "execution_count": 305,
     "metadata": {},
     "output_type": "execute_result"
    }
   ],
   "source": [
    "example = all_preds[:, 1][:,0]\n",
    "example.shape"
   ]
  },
  {
   "cell_type": "code",
   "execution_count": 300,
   "id": "8754cdcb",
   "metadata": {},
   "outputs": [
    {
     "name": "stderr",
     "output_type": "stream",
     "text": [
      "/mnt/c/Users/johan/itu/aml/AML4DS2022/venv/lib/python3.8/site-packages/sklearn/manifold/_t_sne.py:780: FutureWarning: The default initialization in TSNE will change from 'random' to 'pca' in 1.2.\n",
      "  warnings.warn(\n",
      "/mnt/c/Users/johan/itu/aml/AML4DS2022/venv/lib/python3.8/site-packages/sklearn/manifold/_t_sne.py:790: FutureWarning: The default learning rate in TSNE will change from 200.0 to 'auto' in 1.2.\n",
      "  warnings.warn(\n"
     ]
    }
   ],
   "source": [
    "tsne = TSNE(n_components=2)\n",
    "example_tsne = tsne.fit_transform(example)"
   ]
  },
  {
   "cell_type": "code",
   "execution_count": 301,
   "id": "1b5a137e",
   "metadata": {},
   "outputs": [
    {
     "data": {
      "text/plain": [
       "<matplotlib.collections.PathCollection at 0x7f82caed0190>"
      ]
     },
     "execution_count": 301,
     "metadata": {},
     "output_type": "execute_result"
    },
    {
     "data": {
      "image/png": "[encoded data removed]",
      "text/plain": [
       "<Figure size 432x288 with 1 Axes>"
      ]
     },
     "metadata": {
      "needs_background": "light"
     },
     "output_type": "display_data"
    }
   ],
   "source": [
    "plt.scatter(example_tsne[:, 0], example_tsne[:, 1])"
   ]
  },
  {
   "cell_type": "code",
   "execution_count": null,
   "id": "901f898d",
   "metadata": {},
   "outputs": [],
   "source": []
  }
 ],
 "metadata": {
  "kernelspec": {
   "display_name": "Python 3 (ipykernel)",
   "language": "python",
   "name": "python3"
  },
  "language_info": {
   "codemirror_mode": {
    "name": "ipython",
    "version": 3
   },
   "file_extension": ".py",
   "mimetype": "text/x-python",
   "name": "python",
   "nbconvert_exporter": "python",
   "pygments_lexer": "ipython3",
   "version": "3.8.10"
  }
 },
 "nbformat": 4,
 "nbformat_minor": 5
}
